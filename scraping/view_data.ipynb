{
 "cells": [
  {
   "cell_type": "code",
   "execution_count": 1,
   "metadata": {
    "ExecuteTime": {
     "end_time": "2019-04-02T21:19:20.742827Z",
     "start_time": "2019-04-02T21:19:20.702499Z"
    }
   },
   "outputs": [],
   "source": [
    "with open(\"transcriptions.txt\", \"r\") as file:\n",
    "    transcriptions = file.read()"
   ]
  },
  {
   "cell_type": "code",
   "execution_count": 2,
   "metadata": {
    "ExecuteTime": {
     "end_time": "2019-04-02T21:19:20.753176Z",
     "start_time": "2019-04-02T21:19:20.745294Z"
    }
   },
   "outputs": [
    {
     "data": {
      "text/plain": [
       "'Allergic Rhinitis--SUBJECTIVE:  This 23-year-old white female presents with complaint of allergies.  She used to have allergies when she lived in Seattle but she thinks they are worse here.  In the past, she has tried Claritin, and Zyrtec.  Both worked for short time but then seemed to lose effectiveness.  She has used Allegra also.  She used that last summer and she began using it again two weeks ago.  It does not appear to be working very well.  She has used over-the-counter sprays but no prescription nasal sprays.  She does have asthma but doest not require daily medication for this and does not think it is flaring up.--MEDICATIONS:  Her only medication currently is Ortho Tri-Cyclen and t'"
      ]
     },
     "execution_count": 2,
     "metadata": {},
     "output_type": "execute_result"
    }
   ],
   "source": [
    "transcriptions[:700]"
   ]
  },
  {
   "cell_type": "markdown",
   "metadata": {},
   "source": [
    "# Notes\n",
    " - Transcriptions are separated by key: ***\n",
    " - Subsections of transcriptions separated by key: --"
   ]
  },
  {
   "cell_type": "code",
   "execution_count": 3,
   "metadata": {
    "ExecuteTime": {
     "end_time": "2019-04-02T21:19:20.789779Z",
     "start_time": "2019-04-02T21:19:20.754629Z"
    }
   },
   "outputs": [],
   "source": [
    "flat = transcriptions.split(\"***\")"
   ]
  },
  {
   "cell_type": "code",
   "execution_count": 4,
   "metadata": {
    "ExecuteTime": {
     "end_time": "2019-04-02T21:19:20.795102Z",
     "start_time": "2019-04-02T21:19:20.791850Z"
    }
   },
   "outputs": [
    {
     "data": {
      "text/plain": [
       "5103"
      ]
     },
     "execution_count": 4,
     "metadata": {},
     "output_type": "execute_result"
    }
   ],
   "source": [
    "len(flat)"
   ]
  },
  {
   "cell_type": "code",
   "execution_count": 5,
   "metadata": {
    "ExecuteTime": {
     "end_time": "2019-04-02T21:19:20.799929Z",
     "start_time": "2019-04-02T21:19:20.796626Z"
    }
   },
   "outputs": [
    {
     "data": {
      "text/plain": [
       "'Allergic Rhinitis--SUBJECTIVE:  This 23-year-old white female presents with complaint of allergies.  She used to have allergies when she lived in Seattle but she thinks they are worse here.  In the past, she has tried Claritin, and Zyrtec.  Both worked for short time but then seemed to lose effectiveness.  She has used Allegra also.  She used that last summer and she began using it again two weeks ago.  It does not appear to be working very well.  She has used over-the-counter sprays but no prescription nasal sprays.  She does have asthma but doest not require daily medication for this and does not think it is flaring up.--MEDICATIONS:  Her only medication currently is Ortho Tri-Cyclen and the Allegra.--ALLERGIES:  She has no known medicine allergies.--OBJECTIVE:Vitals:  Weight was 130 pounds and blood pressure 124/78.HEENT:  Her throat was mildly erythematous without exudate.  Nasal mucosa was erythematous and swollen.  Only clear drainage was seen.  TMs were clear.Neck:  Supple without adenopathy.Lungs:  Clear.--ASSESSMENT:  Allergic rhinitis.--PLAN:1.  She will try Zyrtec instead of Allegra again.  Another option will be to use loratadine.  She does not think she has prescription coverage so that might be cheaper.2.  Samples of Nasonex two sprays in each nostril given for three weeks.  A prescription was written as well.'"
      ]
     },
     "execution_count": 5,
     "metadata": {},
     "output_type": "execute_result"
    }
   ],
   "source": [
    "flat[0]"
   ]
  },
  {
   "cell_type": "code",
   "execution_count": 6,
   "metadata": {
    "ExecuteTime": {
     "end_time": "2019-04-02T21:19:20.805736Z",
     "start_time": "2019-04-02T21:19:20.801718Z"
    }
   },
   "outputs": [
    {
     "data": {
      "text/plain": [
       "['Allergic Rhinitis',\n",
       " 'SUBJECTIVE:  This 23-year-old white female presents with complaint of allergies.  She used to have allergies when she lived in Seattle but she thinks they are worse here.  In the past, she has tried Claritin, and Zyrtec.  Both worked for short time but then seemed to lose effectiveness.  She has used Allegra also.  She used that last summer and she began using it again two weeks ago.  It does not appear to be working very well.  She has used over-the-counter sprays but no prescription nasal sprays.  She does have asthma but doest not require daily medication for this and does not think it is flaring up.',\n",
       " 'MEDICATIONS:  Her only medication currently is Ortho Tri-Cyclen and the Allegra.',\n",
       " 'ALLERGIES:  She has no known medicine allergies.',\n",
       " 'OBJECTIVE:Vitals:  Weight was 130 pounds and blood pressure 124/78.HEENT:  Her throat was mildly erythematous without exudate.  Nasal mucosa was erythematous and swollen.  Only clear drainage was seen.  TMs were clear.Neck:  Supple without adenopathy.Lungs:  Clear.',\n",
       " 'ASSESSMENT:  Allergic rhinitis.',\n",
       " 'PLAN:1.  She will try Zyrtec instead of Allegra again.  Another option will be to use loratadine.  She does not think she has prescription coverage so that might be cheaper.2.  Samples of Nasonex two sprays in each nostril given for three weeks.  A prescription was written as well.']"
      ]
     },
     "execution_count": 6,
     "metadata": {},
     "output_type": "execute_result"
    }
   ],
   "source": [
    "flat[0].split(\"--\")"
   ]
  },
  {
   "cell_type": "code",
   "execution_count": null,
   "metadata": {},
   "outputs": [],
   "source": []
  }
 ],
 "metadata": {
  "kernelspec": {
   "display_name": "Python 3",
   "language": "python",
   "name": "python3"
  },
  "language_info": {
   "codemirror_mode": {
    "name": "ipython",
    "version": 3
   },
   "file_extension": ".py",
   "mimetype": "text/x-python",
   "name": "python",
   "nbconvert_exporter": "python",
   "pygments_lexer": "ipython3",
   "version": "3.7.1"
  }
 },
 "nbformat": 4,
 "nbformat_minor": 2
}
