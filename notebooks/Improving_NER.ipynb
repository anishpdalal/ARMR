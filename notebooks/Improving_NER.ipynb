{
 "cells": [
  {
   "cell_type": "code",
   "execution_count": 1,
   "metadata": {},
   "outputs": [],
   "source": [
    "import random\n",
    "import scispacy\n",
    "import spacy\n",
    "from spacy.util import minibatch, compounding\n",
    "from spacy.language import Language"
   ]
  },
  {
   "cell_type": "code",
   "execution_count": 15,
   "metadata": {},
   "outputs": [],
   "source": [
    "sci_md = spacy.load(\"/tmp/models/en_core_sci_md-0.1.0/en_core_sci_md/en_core_sci_md-0.1.0\")\n",
    "bc5cdr_md = spacy.load(\"/tmp/models/en_ner_bc5cdr_md-0.1.0/en_ner_bc5cdr_md/en_ner_bc5cdr_md-0.1.0\")"
   ]
  },
  {
   "cell_type": "markdown",
   "metadata": {},
   "source": [
    "### Abnormal Echocardiogram Test Case"
   ]
  },
  {
   "cell_type": "code",
   "execution_count": 16,
   "metadata": {},
   "outputs": [],
   "source": [
    "disease_example = \"Abnormal echocardiogram findings and followup. Shortness of breath, congestive heart failure, and valvular insufficiency.\""
   ]
  },
  {
   "cell_type": "code",
   "execution_count": 17,
   "metadata": {},
   "outputs": [],
   "source": [
    "drug_example = \"Aspirin 325 mg once a day. Metoprolol 50 mg once a day, but we have had to hold it because of relative bradycardia which he apparently has a history of. Nexium 40 mg once a day. Zocor 40 mg once a day, and there is a fasting lipid profile pending at the time of this dictation. I see that his LDL was 136 on May 3, 2002. Plavix 600 mg p.o. x1 which I am giving him tonight\""
   ]
  },
  {
   "cell_type": "markdown",
   "metadata": {},
   "source": [
    "#### Sci_md NER "
   ]
  },
  {
   "cell_type": "code",
   "execution_count": 18,
   "metadata": {},
   "outputs": [
    {
     "name": "stdout",
     "output_type": "stream",
     "text": [
      "Abnormal\n",
      "echocardiogram\n",
      "findings\n",
      "followup\n",
      "Shortness of breath\n",
      "congestive heart failure\n",
      "valvular insufficiency\n"
     ]
    }
   ],
   "source": [
    "for e in sci_md(disease_example).ents:\n",
    "    print(e)"
   ]
  },
  {
   "cell_type": "code",
   "execution_count": 19,
   "metadata": {},
   "outputs": [
    {
     "name": "stdout",
     "output_type": "stream",
     "text": [
      "Aspirin\n",
      "day\n",
      "Metoprolol\n",
      "day\n",
      "relative bradycardia\n",
      "history of\n",
      "Nexium\n",
      "day\n",
      "Zocor\n",
      "day\n",
      "fasting\n",
      "lipid profile\n",
      "dictation\n",
      "LDL\n",
      "Plavix\n",
      "x1\n"
     ]
    }
   ],
   "source": [
    "for e in sci_md(drug_example).ents:\n",
    "    print(e)"
   ]
  },
  {
   "cell_type": "markdown",
   "metadata": {},
   "source": [
    "#### bc5cdr_md NER"
   ]
  },
  {
   "cell_type": "code",
   "execution_count": 21,
   "metadata": {},
   "outputs": [
    {
     "name": "stdout",
     "output_type": "stream",
     "text": [
      "Entity: Shortness of breath, Type: DISEASE\n",
      "Entity: congestive heart failure, Type: DISEASE\n",
      "Entity: valvular insufficiency, Type: DISEASE\n"
     ]
    }
   ],
   "source": [
    "for e in bc5cdr_md(disease_example).ents:\n",
    "    print(f\"Entity: {e}, Type: {e.label_}\")"
   ]
  },
  {
   "cell_type": "code",
   "execution_count": 22,
   "metadata": {},
   "outputs": [
    {
     "name": "stdout",
     "output_type": "stream",
     "text": [
      "Entity: Aspirin, Type: CHEMICAL\n",
      "Entity: Metoprolol, Type: CHEMICAL\n",
      "Entity: bradycardia, Type: DISEASE\n",
      "Entity: p.o, Type: CHEMICAL\n"
     ]
    }
   ],
   "source": [
    "for e in bc5cdr_md(drug_example).ents:\n",
    "    print(f\"Entity: {e}, Type: {e.label_}\")"
   ]
  },
  {
   "cell_type": "markdown",
   "metadata": {},
   "source": [
    "### Fixing Errors"
   ]
  },
  {
   "cell_type": "code",
   "execution_count": 23,
   "metadata": {},
   "outputs": [],
   "source": [
    "TRAIN_DATA = [\n",
    "    (\"Nexium 40 mg once a day.\", {\"entities\": [(0, 6, \"CHEMICAL\")]}),\n",
    "    (\"Zocor 40 mg once a day, and there is a fasting lipid profile pending at the time of this dictation. I see that his LDL was 136 on May 3, 2002.\", {\"entities\": [(0, 5, \"CHEMICAL\")]}),\n",
    "    (\"Plavix 600 mg p.o. x1 which I am giving him tonight.\", {\"entities\": [(0, 6, \"CHEMICAL\")]}),\n",
    "    (\"Abnormal echocardiogram findings and followup,\", {\"entities\": [(0, 23, \"DISEASE\")]})\n",
    "]"
   ]
  },
  {
   "cell_type": "code",
   "execution_count": 24,
   "metadata": {},
   "outputs": [],
   "source": [
    "def train(model=None, output_dir=None, n_iter=100):\n",
    "    \"\"\"Load the model, set up the pipeline and train the entity recognizer.\"\"\"\n",
    "    if model is not None:\n",
    "        nlp = spacy.load(model)  # load existing spaCy model\n",
    "        print(\"Loaded model '%s'\" % model)\n",
    "    else:\n",
    "        nlp = spacy.blank(\"en\")  # create blank Language class\n",
    "        print(\"Created blank 'en' model\")\n",
    "\n",
    "    # create the built-in pipeline components and add them to the pipeline\n",
    "    # nlp.create_pipe works for built-ins that are registered with spaCy\n",
    "    if \"ner\" not in nlp.pipe_names:\n",
    "        ner = nlp.create_pipe(\"ner\")\n",
    "        nlp.add_pipe(ner, last=True)\n",
    "    # otherwise, get it so we can add labels\n",
    "    else:\n",
    "        ner = nlp.get_pipe(\"ner\")\n",
    "\n",
    "    # add labels\n",
    "    for _, annotations in TRAIN_DATA:\n",
    "        for ent in annotations.get(\"entities\"):\n",
    "            ner.add_label(ent[2])\n",
    "\n",
    "    # get names of other pipes to disable them during training\n",
    "    other_pipes = [pipe for pipe in nlp.pipe_names if pipe != \"ner\"]\n",
    "    with nlp.disable_pipes(*other_pipes):  # only train NER\n",
    "        # reset and initialize the weights randomly – but only if we're\n",
    "        # training a new model\n",
    "        if model is None:\n",
    "            nlp.begin_training()\n",
    "        for itn in range(n_iter):\n",
    "            random.shuffle(TRAIN_DATA)\n",
    "            losses = {}\n",
    "            # batch up the examples using spaCy's minibatch\n",
    "            batches = minibatch(TRAIN_DATA, size=compounding(4.0, 32.0, 1.001))\n",
    "            for batch in batches:\n",
    "                texts, annotations = zip(*batch)\n",
    "                nlp.update(\n",
    "                    texts,  # batch of texts\n",
    "                    annotations,  # batch of annotations\n",
    "                    drop=0.5,  # dropout - make it harder to memorise data\n",
    "                    losses=losses,\n",
    "                )\n",
    "            print(\"Losses\", losses)\n",
    "\n",
    "    # test the trained model\n",
    "    for text, _ in TRAIN_DATA:\n",
    "        doc = nlp(text)\n",
    "        print(\"Entities\", [(ent.text, ent.label_) for ent in doc.ents])\n",
    "    return nlp"
   ]
  },
  {
   "cell_type": "code",
   "execution_count": 26,
   "metadata": {},
   "outputs": [
    {
     "name": "stdout",
     "output_type": "stream",
     "text": [
      "Loaded model '/tmp/models/en_ner_bc5cdr_md-0.1.0/en_ner_bc5cdr_md/en_ner_bc5cdr_md-0.1.0'\n",
      "Losses {'ner': 0.5662824450549966}\n",
      "Losses {'ner': 0.32617443837875726}\n",
      "Losses {'ner': 0.6022752265740223}\n",
      "Losses {'ner': 0.5373990733354503}\n",
      "Losses {'ner': 0.22481859783047042}\n",
      "Losses {'ner': 0.2763927944281739}\n",
      "Losses {'ner': 0.24665489221448134}\n",
      "Losses {'ner': 0.28134354241865367}\n",
      "Losses {'ner': 0.2430362636528165}\n",
      "Losses {'ner': 0.04465360517888302}\n",
      "Losses {'ner': 0.46627512734144716}\n",
      "Losses {'ner': 0.12436706719088875}\n",
      "Losses {'ner': 0.14690013916019407}\n",
      "Losses {'ner': 0.2399051309121205}\n",
      "Losses {'ner': 0.22817193771705652}\n",
      "Losses {'ner': 0.13688517401046693}\n",
      "Losses {'ner': 0.0014477830514119609}\n",
      "Losses {'ner': 1.767926242879532e-05}\n",
      "Losses {'ner': 2.5376316897503595e-07}\n",
      "Losses {'ner': 7.780083851327557e-07}\n",
      "Entities [('Nexium', 'CHEMICAL')]\n",
      "Entities [('Plavix', 'CHEMICAL')]\n",
      "Entities [('Abnormal echocardiogram', 'DISEASE')]\n",
      "Entities [('Zocor', 'CHEMICAL')]\n"
     ]
    }
   ],
   "source": [
    "bc5cdr_md_trained = train(\"/tmp/models/en_ner_bc5cdr_md-0.1.0/en_ner_bc5cdr_md/en_ner_bc5cdr_md-0.1.0\", n_iter=20)"
   ]
  },
  {
   "cell_type": "code",
   "execution_count": 27,
   "metadata": {},
   "outputs": [
    {
     "name": "stdout",
     "output_type": "stream",
     "text": [
      "Entity: Aspirin, Type: CHEMICAL\n",
      "Entity: Metoprolol, Type: CHEMICAL\n",
      "Entity: bradycardia, Type: DISEASE\n",
      "Entity: Nexium, Type: CHEMICAL\n",
      "Entity: Zocor, Type: CHEMICAL\n"
     ]
    }
   ],
   "source": [
    "for e in bc5cdr_md_trained(drug_example).ents:\n",
    "    print(f\"Entity: {e}, Type: {e.label_}\")"
   ]
  },
  {
   "cell_type": "code",
   "execution_count": 28,
   "metadata": {},
   "outputs": [
    {
     "name": "stdout",
     "output_type": "stream",
     "text": [
      "Entity: Abnormal echocardiogram, Type: DISEASE\n",
      "Entity: Shortness of breath, Type: DISEASE\n",
      "Entity: congestive heart failure, Type: DISEASE\n",
      "Entity: valvular insufficiency, Type: DISEASE\n"
     ]
    }
   ],
   "source": [
    "for e in bc5cdr_md_trained(disease_example).ents:\n",
    "    print(f\"Entity: {e}, Type: {e.label_}\")"
   ]
  },
  {
   "cell_type": "code",
   "execution_count": null,
   "metadata": {},
   "outputs": [],
   "source": []
  }
 ],
 "metadata": {
  "kernelspec": {
   "display_name": "Python 3",
   "language": "python",
   "name": "python3"
  },
  "language_info": {
   "codemirror_mode": {
    "name": "ipython",
    "version": 3
   },
   "file_extension": ".py",
   "mimetype": "text/x-python",
   "name": "python",
   "nbconvert_exporter": "python",
   "pygments_lexer": "ipython3",
   "version": "3.7.1"
  }
 },
 "nbformat": 4,
 "nbformat_minor": 2
}
