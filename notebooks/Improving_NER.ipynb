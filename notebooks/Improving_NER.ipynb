{
 "cells": [
  {
   "cell_type": "code",
   "execution_count": 1,
   "metadata": {},
   "outputs": [],
   "source": [
    "import random\n",
    "import scispacy\n",
    "import spacy\n",
    "from spacy.util import minibatch, compounding\n",
    "from spacy.language import Language\n",
    "import os"
   ]
  },
  {
   "cell_type": "code",
   "execution_count": 2,
   "metadata": {},
   "outputs": [],
   "source": [
    "par_dir = os.path.abspath(os.path.join(os.getcwd(), os.pardir))"
   ]
  },
  {
   "cell_type": "code",
   "execution_count": 3,
   "metadata": {},
   "outputs": [
    {
     "data": {
      "text/plain": [
       "'/Users/anishdalal/code/product_analytics/product-analytics-group-project-armor'"
      ]
     },
     "execution_count": 3,
     "metadata": {},
     "output_type": "execute_result"
    }
   ],
   "source": [
    "par_dir"
   ]
  },
  {
   "cell_type": "code",
   "execution_count": 14,
   "metadata": {},
   "outputs": [],
   "source": [
    "bc5cdr_md = spacy.load(\"{}/models/en_ner_bc5cdr_md-0.1.0\".format(par_dir))"
   ]
  },
  {
   "cell_type": "markdown",
   "metadata": {},
   "source": [
    "### Abnormal Echocardiogram Test Case"
   ]
  },
  {
   "cell_type": "code",
   "execution_count": 15,
   "metadata": {},
   "outputs": [],
   "source": [
    "disease_example = \"Abnormal echocardiogram findings and followup. \\\n",
    "Shortness of breath, congestive heart failure, and valvular insufficiency.\""
   ]
  },
  {
   "cell_type": "code",
   "execution_count": 16,
   "metadata": {},
   "outputs": [],
   "source": [
    "drug_example = \"Aspirin 325 mg once a day. Metoprolol 50 mg once a day, \\\n",
    "but we have had to hold it because of relative bradycardia which he apparently has a history of. \\\n",
    "Nexium 40 mg once a day. Zocor 40 mg once a day, and there is a fasting \\\n",
    "lipid profile pending at the time of this dictation. I see that \\\n",
    "his LDL was 136 on May 3, 2002. Plavix 600 mg p.o. x1 which I am giving him tonight\"\n"
   ]
  },
  {
   "cell_type": "markdown",
   "metadata": {},
   "source": [
    "#### bc5cdr_md NER"
   ]
  },
  {
   "cell_type": "code",
   "execution_count": 17,
   "metadata": {},
   "outputs": [
    {
     "name": "stdout",
     "output_type": "stream",
     "text": [
      "Entity: Shortness of breath, Type: DISEASE\n",
      "Entity: congestive heart failure, Type: DISEASE\n",
      "Entity: valvular insufficiency, Type: DISEASE\n"
     ]
    }
   ],
   "source": [
    "for e in bc5cdr_md(disease_example).ents:\n",
    "    print(f\"Entity: {e}, Type: {e.label_}\")"
   ]
  },
  {
   "cell_type": "code",
   "execution_count": 18,
   "metadata": {},
   "outputs": [
    {
     "name": "stdout",
     "output_type": "stream",
     "text": [
      "Entity: Aspirin, Type: CHEMICAL\n",
      "Entity: Metoprolol, Type: CHEMICAL\n",
      "Entity: bradycardia, Type: DISEASE\n",
      "Entity: p.o, Type: CHEMICAL\n"
     ]
    }
   ],
   "source": [
    "for e in bc5cdr_md(drug_example).ents:\n",
    "    print(f\"Entity: {e}, Type: {e.label_}\")"
   ]
  },
  {
   "cell_type": "markdown",
   "metadata": {},
   "source": [
    "### Fixing Errors"
   ]
  },
  {
   "cell_type": "code",
   "execution_count": 19,
   "metadata": {},
   "outputs": [],
   "source": [
    "TRAIN_DATA = [\n",
    "    (\"Nexium 40 mg once a day.\", {\"entities\": [(0, 6, \"CHEMICAL\")]}),\n",
    "    (\"Zocor 40 mg once a day, and there is a fasting lipid profile pending at the time of this dictation. I see that his LDL was 136 on May 3, 2002.\", \n",
    "     {\"entities\": [(0, 5, \"CHEMICAL\")]}),\n",
    "    (\"Plavix 600 mg p.o. x1 which I am giving him tonight.\", {\"entities\": [(0, 6, \"CHEMICAL\")]}),\n",
    "    (\"Abnormal echocardiogram findings and followup,\", {\"entities\": [(0, 23, \"DISEASE\")]})\n",
    "]"
   ]
  },
  {
   "cell_type": "code",
   "execution_count": 20,
   "metadata": {},
   "outputs": [],
   "source": [
    "def train(model=None, output_dir=None, n_iter=100):\n",
    "    \"\"\"Load the model, set up the pipeline and train the entity recognizer.\"\"\"\n",
    "    if model is not None:\n",
    "        nlp = spacy.load(model)  # load existing spaCy model\n",
    "        print(\"Loaded model '%s'\" % model)\n",
    "    else:\n",
    "        nlp = spacy.blank(\"en\")  # create blank Language class\n",
    "        print(\"Created blank 'en' model\")\n",
    "\n",
    "    # create the built-in pipeline components and add them to the pipeline\n",
    "    # nlp.create_pipe works for built-ins that are registered with spaCy\n",
    "    if \"ner\" not in nlp.pipe_names:\n",
    "        ner = nlp.create_pipe(\"ner\")\n",
    "        nlp.add_pipe(ner, last=True)\n",
    "    # otherwise, get it so we can add labels\n",
    "    else:\n",
    "        ner = nlp.get_pipe(\"ner\")\n",
    "\n",
    "    # add labels\n",
    "    for _, annotations in TRAIN_DATA:\n",
    "        for ent in annotations.get(\"entities\"):\n",
    "            ner.add_label(ent[2])\n",
    "\n",
    "    # get names of other pipes to disable them during training\n",
    "    other_pipes = [pipe for pipe in nlp.pipe_names if pipe != \"ner\"]\n",
    "    with nlp.disable_pipes(*other_pipes):  # only train NER\n",
    "        # reset and initialize the weights randomly – but only if we're\n",
    "        # training a new model\n",
    "        if model is None:\n",
    "            nlp.begin_training()\n",
    "        for itn in range(n_iter):\n",
    "            random.shuffle(TRAIN_DATA)\n",
    "            losses = {}\n",
    "            # batch up the examples using spaCy's minibatch\n",
    "            batches = minibatch(TRAIN_DATA, size=compounding(4.0, 32.0, 1.001))\n",
    "            for batch in batches:\n",
    "                texts, annotations = zip(*batch)\n",
    "                nlp.update(\n",
    "                    texts,  # batch of texts\n",
    "                    annotations,  # batch of annotations\n",
    "                    drop=0.5,  # dropout - make it harder to memorise data\n",
    "                    losses=losses,\n",
    "                )\n",
    "            print(\"Losses\", losses)\n",
    "\n",
    "    # test the trained model\n",
    "    for text, _ in TRAIN_DATA:\n",
    "        doc = nlp(text)\n",
    "        print(\"Entities\", [(ent.text, ent.label_) for ent in doc.ents])\n",
    "    return nlp"
   ]
  },
  {
   "cell_type": "code",
   "execution_count": 24,
   "metadata": {},
   "outputs": [
    {
     "name": "stdout",
     "output_type": "stream",
     "text": [
      "Loaded model '/Users/anishdalal/code/product_analytics/product-analytics-group-project-armor/models/en_ner_bc5cdr_md-0.1.0'\n",
      "Losses {'ner': 0.6595967436049608}\n",
      "Losses {'ner': 0.42597838775063224}\n",
      "Losses {'ner': 0.5521093332604323}\n",
      "Losses {'ner': 0.44600275475264084}\n",
      "Losses {'ner': 0.31307983600967637}\n",
      "Losses {'ner': 0.43369881816274614}\n",
      "Losses {'ner': 0.24680072141518394}\n",
      "Losses {'ner': 0.11241393547733813}\n",
      "Losses {'ner': 0.11397331915926345}\n",
      "Losses {'ner': 0.14974837926238038}\n",
      "Losses {'ner': 0.11977514771461273}\n",
      "Losses {'ner': 0.003662050364525271}\n",
      "Losses {'ner': 0.03619129565891743}\n",
      "Losses {'ner': 0.12473923715495694}\n",
      "Losses {'ner': 0.0838228054348189}\n",
      "Losses {'ner': 0.05893670279328861}\n",
      "Losses {'ner': 0.000896163900904412}\n",
      "Losses {'ner': 0.012129870794346687}\n",
      "Losses {'ner': 0.11201299529095587}\n",
      "Losses {'ner': 0.0001747447892229382}\n",
      "Entities [('Abnormal echocardiogram', 'DISEASE')]\n",
      "Entities [('Plavix', 'CHEMICAL')]\n",
      "Entities [('Nexium', 'CHEMICAL')]\n",
      "Entities [('Zocor', 'CHEMICAL')]\n"
     ]
    }
   ],
   "source": [
    "model_dir = \"{}/models/en_ner_bc5cdr_md-0.1.0\".format(par_dir)\n",
    "bc5cdr_md = train(model_dir, n_iter=20)"
   ]
  },
  {
   "cell_type": "code",
   "execution_count": 25,
   "metadata": {},
   "outputs": [
    {
     "name": "stdout",
     "output_type": "stream",
     "text": [
      "Entity: Aspirin, Type: CHEMICAL\n",
      "Entity: Metoprolol, Type: CHEMICAL\n",
      "Entity: bradycardia, Type: DISEASE\n",
      "Entity: Nexium, Type: CHEMICAL\n",
      "Entity: Zocor, Type: CHEMICAL\n"
     ]
    }
   ],
   "source": [
    "for e in bc5cdr_md(drug_example).ents:\n",
    "    print(f\"Entity: {e}, Type: {e.label_}\")"
   ]
  },
  {
   "cell_type": "code",
   "execution_count": 26,
   "metadata": {},
   "outputs": [
    {
     "name": "stdout",
     "output_type": "stream",
     "text": [
      "Entity: Abnormal echocardiogram, Type: DISEASE\n",
      "Entity: Shortness of breath, Type: DISEASE\n",
      "Entity: congestive heart failure, Type: DISEASE\n",
      "Entity: valvular insufficiency, Type: DISEASE\n"
     ]
    }
   ],
   "source": [
    "for e in bc5cdr_md(disease_example).ents:\n",
    "    print(f\"Entity: {e}, Type: {e.label_}\")"
   ]
  }
 ],
 "metadata": {
  "kernelspec": {
   "display_name": "Python 3",
   "language": "python",
   "name": "python3"
  }
 },
 "nbformat": 4,
 "nbformat_minor": 2
}
