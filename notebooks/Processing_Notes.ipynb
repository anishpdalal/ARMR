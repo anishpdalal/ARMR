{
 "cells": [
  {
   "cell_type": "code",
   "execution_count": 1,
   "metadata": {},
   "outputs": [],
   "source": [
    "import scispacy\n",
    "import spacy\n",
    "from spacy.matcher import Matcher, PhraseMatcher\n",
    "import os"
   ]
  },
  {
   "cell_type": "code",
   "execution_count": 2,
   "metadata": {},
   "outputs": [],
   "source": [
    "example_note = \"\"\"\n",
    "HISTORY OF PRESENT ILLNESS: The patient is a 41-year-old African-American male previously well known to me. \n",
    "He has a previous history of aortic valve disease, status post aortic valve replacement on 10/15/2007, \n",
    "for which he has been on chronic anticoagulation. There is a previous history of paroxysmal atrial fibrillation \n",
    "and congestive heart failure, both of which have been stable prior to this admission. He has a previous history \n",
    "of transient ischemic attack with no residual neurologic deficits.\n",
    "\n",
    "The patient has undergone surgery by Dr. X for attempted nephrolithotomy. The patient has experienced \n",
    "significant postoperative bleeding, for which it has been necessary to discontinue all anticoagulation. \n",
    "The patient is presently seen at the request of Dr. X for management of anticoagulation and his above heart disease.\n",
    "\n",
    "PAST MEDICAL AND SURGICAL HISTORY:\n",
    "1. Type I diabetes mellitus.\n",
    "2. Hyperlipidemia.\n",
    "3. Hypertension.\n",
    "4. Morbid obesity.\n",
    "5. Sleep apnea syndrome.\n",
    "6. Status post thyroidectomy for thyroid carcinoma.\n",
    "\n",
    "REVIEW OF SYSTEMS:\n",
    "General: Unremarkable.\n",
    "Cardiopulmonary: No chest pain, shortness of breath, palpitations, or dizziness.\n",
    "Gastrointestinal: Unremarkable.\n",
    "Genitourinary: See above.\n",
    "Musculoskeletal: Unremarkable.\n",
    "Neurologic: Unremarkable.\n",
    "\n",
    "FAMILY HISTORY: There are no family members with coronary artery disease. His mother has congestive heart failure.\n",
    "\n",
    "SOCIAL HISTORY: The patient is married. He lives with his wife. He is employed as a barber. He does not use alcohol, tobacco, or illicit drugs.\n",
    "\n",
    "MEDICATIONS PRIOR TO ADMISSION:\n",
    "1. Clonidine 0.3 mg b.i.d.\n",
    "2. Atenolol 50 mg daily.\n",
    "3. Simvastatin 80 mg daily.\n",
    "4. Furosemide 40 mg daily.\n",
    "5. Metformin 1000 mg b.i.d.\n",
    "6. Hydralazine 25 mg t.i.d.\n",
    "7. Diovan 320 mg daily.\n",
    "8. Lisinopril 40 mg daily.\n",
    "9. Amlodipine 10 mg daily.\n",
    "10. Lantus insulin 50 units q.p.m.\n",
    "11. KCl 20 mEq daily.\n",
    "12. NovoLog sliding scale insulin coverage.\n",
    "13. Warfarin 7.5 mg daily.\n",
    "14. Levothyroxine 0.2 mg daily.\n",
    "15. Folic acid 1 mg daily.\n",
    "\n",
    "ALLERGIES: None.\n",
    "\n",
    "PHYSICAL EXAMINATION:\n",
    "General: A well-appearing, obese black male.\n",
    "Vital Signs: BP 140/80, HR 88, respirations 16, and afebrile.\n",
    "HEENT: Grossly normal.\n",
    "Neck: Normal. Thyroid, normal. Carotid, normal upstroke, no bruits.\n",
    "Chest: Midline sternotomy scar.\n",
    "Lungs: Clear.\n",
    "Heart: PMI fifth intercostal space mid clavicular line. Normal S1 and prosthetic S2. No murmur, rub, gallop, or click.\n",
    "Abdomen: Soft and nontender. No palpable mass or hepatosplenomegaly.\n",
    "Extremities: Normal. No edema. Pulses bilaterally intact, carotid, radial, femoral, and dorsalis pedis.\n",
    "Neurologic: Mental status, no gross cranial nerve, motor, or sensory deficits.\n",
    "\n",
    "ELECTROCARDIOGRAM: Normal sinus rhythm. Right bundle-branch block. Findings compatible with old anteroseptal and lateral wall myocardial infarction.\n",
    "_______ nonspecific ST-T abnormality.\n",
    "\n",
    "IMPRESSION:\n",
    "1. Status post nephrolithotomy with postoperative hematuria.\n",
    "2. Aortic valve disease, status post aortic valve replacement on 10/15/2007.\n",
    "3. Congestive heart failure, diastolic, chronic, stable, NYSHA class I to II.\n",
    "4. Paroxysmal atrial fibrillation.\n",
    "5. Status post remote transient ischemic attack with no residual neurologic deficits.\n",
    "6. Type I diabetes mellitus.\n",
    "7. Hyperlipidemia.\n",
    "8. Hypertension.\n",
    "9. Morbid obesity.\n",
    "10. Sleep apnea syndrome.\n",
    "11. Chronic therapeutic anticoagulation.\n",
    "\n",
    "RECOMMENDATIONS: Until resolution of the hematuria, I agree with the necessity of discontinuation of all anticoagulation. There is obvious risk both due to prosthetic aortic valve and paroxysmal atrial fibrillation with continuation of anticoagulation; however, the risk of uncontrolled bleeding is essentially worse.\n",
    "Continue other medications. \n",
    "\"\"\""
   ]
  },
  {
   "cell_type": "code",
   "execution_count": 3,
   "metadata": {},
   "outputs": [
    {
     "data": {
      "text/plain": [
       "'\\nHISTORY OF PRESENT ILLNESS: The patient is a 41-year-old African-American male previously well known to me. \\nHe has a previous history of aortic valve disease, status post aortic valve replacement on 10/15/2007, \\nfor which he has been on chronic anticoagulation. There is a previous history of paroxysmal atrial fibrillation \\nand congestive heart failure, both of which have been stable prior to this admission. He has a previous history \\nof transient ischemic attack with no residual neurologic deficits.\\n\\nThe patient has undergone surgery by Dr. X for attempted nephrolithotomy. The patient has experienced \\nsignificant postoperative bleeding, for which it has been necessary to discontinue all anticoagulation. \\nThe patient is presently seen at the request of Dr. X for management of anticoagulation and his above heart disease.\\n\\nPAST MEDICAL AND SURGICAL HISTORY:\\n1. Type I diabetes mellitus.\\n2. Hyperlipidemia.\\n3. Hypertension.\\n4. Morbid obesity.\\n5. Sleep apnea syndrome.\\n6. Status post thyroidectomy for thyroid carcinoma.\\n\\nREVIEW OF SYSTEMS:\\nGeneral: Unremarkable.\\nCardiopulmonary: No chest pain, shortness of breath, palpitations, or dizziness.\\nGastrointestinal: Unremarkable.\\nGenitourinary: See above.\\nMusculoskeletal: Unremarkable.\\nNeurologic: Unremarkable.\\n\\nFAMILY HISTORY: There are no family members with coronary artery disease. His mother has congestive heart failure.\\n\\nSOCIAL HISTORY: The patient is married. He lives with his wife. He is employed as a barber. He does not use alcohol, tobacco, or illicit drugs.\\n\\nMEDICATIONS PRIOR TO ADMISSION:\\n1. Clonidine 0.3 mg b.i.d.\\n2. Atenolol 50 mg daily.\\n3. Simvastatin 80 mg daily.\\n4. Furosemide 40 mg daily.\\n5. Metformin 1000 mg b.i.d.\\n6. Hydralazine 25 mg t.i.d.\\n7. Diovan 320 mg daily.\\n8. Lisinopril 40 mg daily.\\n9. Amlodipine 10 mg daily.\\n10. Lantus insulin 50 units q.p.m.\\n11. KCl 20 mEq daily.\\n12. NovoLog sliding scale insulin coverage.\\n13. Warfarin 7.5 mg daily.\\n14. Levothyroxine 0.2 mg daily.\\n15. Folic acid 1 mg daily.\\n\\nALLERGIES: None.\\n\\nPHYSICAL EXAMINATION:\\nGeneral: A well-appearing, obese black male.\\nVital Signs: BP 140/80, HR 88, respirations 16, and afebrile.\\nHEENT: Grossly normal.\\nNeck: Normal. Thyroid, normal. Carotid, normal upstroke, no bruits.\\nChest: Midline sternotomy scar.\\nLungs: Clear.\\nHeart: PMI fifth intercostal space mid clavicular line. Normal S1 and prosthetic S2. No murmur, rub, gallop, or click.\\nAbdomen: Soft and nontender. No palpable mass or hepatosplenomegaly.\\nExtremities: Normal. No edema. Pulses bilaterally intact, carotid, radial, femoral, and dorsalis pedis.\\nNeurologic: Mental status, no gross cranial nerve, motor, or sensory deficits.\\n\\nELECTROCARDIOGRAM: Normal sinus rhythm. Right bundle-branch block. Findings compatible with old anteroseptal and lateral wall myocardial infarction.\\n_______ nonspecific ST-T abnormality.\\n\\nIMPRESSION:\\n1. Status post nephrolithotomy with postoperative hematuria.\\n2. Aortic valve disease, status post aortic valve replacement on 10/15/2007.\\n3. Congestive heart failure, diastolic, chronic, stable, NYSHA class I to II.\\n4. Paroxysmal atrial fibrillation.\\n5. Status post remote transient ischemic attack with no residual neurologic deficits.\\n6. Type I diabetes mellitus.\\n7. Hyperlipidemia.\\n8. Hypertension.\\n9. Morbid obesity.\\n10. Sleep apnea syndrome.\\n11. Chronic therapeutic anticoagulation.\\n\\nRECOMMENDATIONS: Until resolution of the hematuria, I agree with the necessity of discontinuation of all anticoagulation. There is obvious risk both due to prosthetic aortic valve and paroxysmal atrial fibrillation with continuation of anticoagulation; however, the risk of uncontrolled bleeding is essentially worse.\\nContinue other medications. \\n'"
      ]
     },
     "execution_count": 3,
     "metadata": {},
     "output_type": "execute_result"
    }
   ],
   "source": [
    "example_note"
   ]
  },
  {
   "cell_type": "code",
   "execution_count": 4,
   "metadata": {},
   "outputs": [],
   "source": [
    "par_dir = os.path.abspath(os.path.join(os.getcwd(), os.pardir))\n",
    "bc5cdr_md = spacy.load(\"{}/models/en_ner_bc5cdr_md-0.1.0\".format(par_dir))"
   ]
  },
  {
   "cell_type": "code",
   "execution_count": 5,
   "metadata": {},
   "outputs": [],
   "source": [
    "matcher = PhraseMatcher(bc5cdr_md.vocab)\n",
    "terminology_list = [\"history of present illness\", \"past medical and surgical history\", \"past medical history\",\n",
    "                    \"review of systems\", \"family history\", \"social history\", \"medications prior to admission\",\n",
    "                    \"allergies\", \"physical examination\", \"electrocardiogram\", \"impression\", \"recommendations\"]\n",
    "patterns = [bc5cdr_md.make_doc(text) for text in terminology_list]\n",
    "matcher.add(\"Cateogries\", None, *patterns)"
   ]
  },
  {
   "cell_type": "code",
   "execution_count": 6,
   "metadata": {},
   "outputs": [
    {
     "name": "stdout",
     "output_type": "stream",
     "text": [
      "history of present illness 1 5\n",
      "past medical and surgical history 148 153\n",
      "review of systems 196 199\n",
      "family history 243 245\n",
      "social history 264 266\n",
      "medications prior to admission 298 302\n",
      "allergies 427 428\n",
      "physical examination 432 434\n",
      "electrocardiogram 576 577\n",
      "impression 610 611\n",
      "recommendations 717 718\n"
     ]
    }
   ],
   "source": [
    "doc_lower = bc5cdr_md(example_note.lower())\n",
    "doc = bc5cdr_md(example_note)\n",
    "matches = matcher(doc_lower)\n",
    "for match_id, start, end in matches:\n",
    "    span = doc_lower[start:end]\n",
    "    print(span.text, start, end)"
   ]
  },
  {
   "cell_type": "code",
   "execution_count": 7,
   "metadata": {},
   "outputs": [],
   "source": [
    "a = doc[6: 146]"
   ]
  },
  {
   "cell_type": "code",
   "execution_count": 8,
   "metadata": {},
   "outputs": [
    {
     "data": {
      "text/plain": [
       "'The patient is a 41-year-old African-American male previously well known to me. \\nHe has a previous history of aortic valve disease, status post aortic valve replacement on 10/15/2007, \\nfor which he has been on chronic anticoagulation. There is a previous history of paroxysmal atrial fibrillation \\nand congestive heart failure, both of which have been stable prior to this admission. He has a previous history \\nof transient ischemic attack with no residual neurologic deficits.\\n\\nThe patient has undergone surgery by Dr. X for attempted nephrolithotomy. The patient has experienced \\nsignificant postoperative bleeding, for which it has been necessary to discontinue all anticoagulation. \\nThe patient is presently seen at the request of Dr. X for management of anticoagulation and his above heart disease.\\n\\n'"
      ]
     },
     "execution_count": 8,
     "metadata": {},
     "output_type": "execute_result"
    }
   ],
   "source": [
    "a.text"
   ]
  },
  {
   "cell_type": "code",
   "execution_count": 9,
   "metadata": {},
   "outputs": [],
   "source": [
    "import sys"
   ]
  },
  {
   "cell_type": "code",
   "execution_count": 10,
   "metadata": {},
   "outputs": [],
   "source": [
    "sys.path.append(\"../code\")"
   ]
  },
  {
   "cell_type": "code",
   "execution_count": 11,
   "metadata": {},
   "outputs": [],
   "source": [
    "from nlp import prepare_note"
   ]
  },
  {
   "cell_type": "code",
   "execution_count": 12,
   "metadata": {},
   "outputs": [],
   "source": [
    "note = prepare_note(bc5cdr_md, example_note)"
   ]
  },
  {
   "cell_type": "code",
   "execution_count": 13,
   "metadata": {},
   "outputs": [
    {
     "data": {
      "text/plain": [
       "{'history of present illness': {'text': 'The patient is a 41-year-old African-American male previously well known to me. \\nHe has a previous history of aortic valve disease, status post aortic valve replacement on 10/15/2007, \\nfor which he has been on chronic anticoagulation. There is a previous history of paroxysmal atrial fibrillation \\nand congestive heart failure, both of which have been stable prior to this admission. He has a previous history \\nof transient ischemic attack with no residual neurologic deficits.\\n\\nThe patient has undergone surgery by Dr. X for attempted nephrolithotomy. The patient has experienced \\nsignificant postoperative bleeding, for which it has been necessary to discontinue all anticoagulation. \\nThe patient is presently seen at the request of Dr. X for management of anticoagulation and his above heart disease.\\n\\n',\n",
       "  'diseases': [{'name': aortic valve disease},\n",
       "   {'name': atrial fibrillation},\n",
       "   {'name': congestive heart failure},\n",
       "   {'name': postoperative bleeding},\n",
       "   {'name': heart disease}],\n",
       "  'medications': []},\n",
       " 'past medical and surgical history': {'text': '\\n1. Type I diabetes mellitus.\\n2. Hyperlipidemia.\\n3. Hypertension.\\n4. Morbid obesity.\\n5. Sleep apnea syndrome.\\n6. Status post thyroidectomy for thyroid carcinoma.\\n\\n',\n",
       "  'diseases': [{'name': diabetes mellitus},\n",
       "   {'name': Hyperlipidemia},\n",
       "   {'name': Hypertension},\n",
       "   {'name': obesity},\n",
       "   {'name': Sleep apnea syndrome},\n",
       "   {'name': thyroid carcinoma}],\n",
       "  'medications': []},\n",
       " 'review of systems': {'text': '\\nGeneral: Unremarkable.\\nCardiopulmonary: No chest pain, shortness of breath, palpitations, or dizziness.\\nGastrointestinal: Unremarkable.\\nGenitourinary: See above.\\nMusculoskeletal: Unremarkable.\\nNeurologic: Unremarkable.\\n\\n',\n",
       "  'diseases': [{'name': chest pain},\n",
       "   {'name': shortness of breath},\n",
       "   {'name': palpitations},\n",
       "   {'name': dizziness}],\n",
       "  'medications': []},\n",
       " 'family history': {'text': 'There are no family members with coronary artery disease. His mother has congestive heart failure.\\n\\n',\n",
       "  'diseases': [{'name': coronary artery disease},\n",
       "   {'name': congestive heart failure}],\n",
       "  'medications': []},\n",
       " 'social history': {'text': 'The patient is married. He lives with his wife. He is employed as a barber. He does not use alcohol, tobacco, or illicit drugs.\\n\\n',\n",
       "  'diseases': [],\n",
       "  'medications': [{'name': alcohol}]},\n",
       " 'medications prior to admission': {'text': '\\n1. Clonidine 0.3 mg b.i.d.\\n2. Atenolol 50 mg daily.\\n3. Simvastatin 80 mg daily.\\n4. Furosemide 40 mg daily.\\n5. Metformin 1000 mg b.i.d.\\n6. Hydralazine 25 mg t.i.d.\\n7. Diovan 320 mg daily.\\n8. Lisinopril 40 mg daily.\\n9. Amlodipine 10 mg daily.\\n10. Lantus insulin 50 units q.p.m.\\n11. KCl 20 mEq daily.\\n12. NovoLog sliding scale insulin coverage.\\n13. Warfarin 7.5 mg daily.\\n14. Levothyroxine 0.2 mg daily.\\n15. Folic acid 1 mg daily.\\n\\n',\n",
       "  'diseases': [],\n",
       "  'medications': [{'name': Clonidine},\n",
       "   {'name': b.i.d},\n",
       "   {'name': Atenolol},\n",
       "   {'name': Simvastatin},\n",
       "   {'name': Furosemide},\n",
       "   {'name': Metformin},\n",
       "   {'name': b.i.d},\n",
       "   {'name': Hydralazine},\n",
       "   {'name': t.i.d},\n",
       "   {'name': Amlodipine},\n",
       "   {'name': KCl},\n",
       "   {'name': Warfarin},\n",
       "   {'name': Levothyroxine},\n",
       "   {'name': Folic acid}]},\n",
       " 'allergies': {'text': 'None.\\n\\n', 'diseases': [], 'medications': []},\n",
       " 'physical examination': {'text': '\\nGeneral: A well-appearing, obese black male.\\nVital Signs: BP 140/80, HR 88, respirations 16, and afebrile.\\nHEENT: Grossly normal.\\nNeck: Normal. Thyroid, normal. Carotid, normal upstroke, no bruits.\\nChest: Midline sternotomy scar.\\nLungs: Clear.\\nHeart: PMI fifth intercostal space mid clavicular line. Normal S1 and prosthetic S2. No murmur, rub, gallop, or click.\\nAbdomen: Soft and nontender. No palpable mass or hepatosplenomegaly.\\nExtremities: Normal. No edema. Pulses bilaterally intact, carotid, radial, femoral, and dorsalis pedis.\\nNeurologic: Mental status, no gross cranial nerve, motor, or sensory deficits.\\n\\n',\n",
       "  'diseases': [{'name': afebrile},\n",
       "   {'name': gallop},\n",
       "   {'name': hepatosplenomegaly},\n",
       "   {'name': edema}],\n",
       "  'medications': [{'name': Midline}]},\n",
       " 'electrocardiogram': {'text': 'Normal sinus rhythm. Right bundle-branch block. Findings compatible with old anteroseptal and lateral wall myocardial infarction.\\n_______ nonspecific ST-T abnormality.\\n\\n',\n",
       "  'diseases': [{'name': Right bundle-branch block},\n",
       "   {'name': myocardial infarction}],\n",
       "  'medications': [{'name': \n",
       "    _______ nonspecific ST-T}]},\n",
       " 'impression': {'text': '\\n1. Status post nephrolithotomy with postoperative hematuria.\\n2. Aortic valve disease, status post aortic valve replacement on 10/15/2007.\\n3. Congestive heart failure, diastolic, chronic, stable, NYSHA class I to II.\\n4. Paroxysmal atrial fibrillation.\\n5. Status post remote transient ischemic attack with no residual neurologic deficits.\\n6. Type I diabetes mellitus.\\n7. Hyperlipidemia.\\n8. Hypertension.\\n9. Morbid obesity.\\n10. Sleep apnea syndrome.\\n11. Chronic therapeutic anticoagulation.\\n\\n',\n",
       "  'diseases': [{'name': postoperative hematuria},\n",
       "   {'name': valve disease},\n",
       "   {'name': Congestive heart failure},\n",
       "   {'name': atrial fibrillation},\n",
       "   {'name': neurologic deficits},\n",
       "   {'name': diabetes mellitus},\n",
       "   {'name': Hyperlipidemia},\n",
       "   {'name': Hypertension},\n",
       "   {'name': obesity},\n",
       "   {'name': Sleep apnea syndrome}],\n",
       "  'medications': [{'name': NYSHA}]},\n",
       " 'recommendations': {'text': 'Until resolution of the hematuria, I agree with the necessity of discontinuation of all anticoagulation. There is obvious risk both due to prosthetic aortic valve and paroxysmal atrial fibrillation with continuation of anticoagulation; however, the risk of uncontrolled bleeding is essentially worse.\\nContinue other medications. \\n',\n",
       "  'diseases': [{'name': hematuria},\n",
       "   {'name': atrial fibrillation},\n",
       "   {'name': bleeding}],\n",
       "  'medications': []}}"
      ]
     },
     "execution_count": 13,
     "metadata": {},
     "output_type": "execute_result"
    }
   ],
   "source": [
    "note"
   ]
  },
  {
   "cell_type": "code",
   "execution_count": null,
   "metadata": {},
   "outputs": [],
   "source": [
    "k = note.keys()"
   ]
  },
  {
   "cell_type": "code",
   "execution_count": null,
   "metadata": {},
   "outputs": [],
   "source": [
    "k"
   ]
  },
  {
   "cell_type": "code",
   "execution_count": null,
   "metadata": {},
   "outputs": [],
   "source": []
  }
 ],
 "metadata": {
  "kernelspec": {
   "display_name": "Python 3",
   "language": "python",
   "name": "python3"
  },
  "language_info": {
   "codemirror_mode": {
    "name": "ipython",
    "version": 3
   },
   "file_extension": ".py",
   "mimetype": "text/x-python",
   "name": "python",
   "nbconvert_exporter": "python",
   "pygments_lexer": "ipython3",
   "version": "3.7.1"
  }
 },
 "nbformat": 4,
 "nbformat_minor": 2
}
