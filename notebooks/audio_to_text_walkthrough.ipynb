{
 "cells": [
  {
   "cell_type": "markdown",
   "metadata": {},
   "source": [
    "For below, I followed this page https://realpython.com/python-speech-recognition/"
   ]
  },
  {
   "cell_type": "code",
   "execution_count": 1,
   "metadata": {
    "ExecuteTime": {
     "end_time": "2019-04-06T22:21:31.600975Z",
     "start_time": "2019-04-06T22:21:29.992585Z"
    }
   },
   "outputs": [
    {
     "name": "stdout",
     "output_type": "stream",
     "text": [
      "Requirement already satisfied: SpeechRecognition in /Users/darrenthomas/miniconda3/lib/python3.7/site-packages (3.8.1)\r\n"
     ]
    }
   ],
   "source": [
    "! pip install SpeechRecognition"
   ]
  },
  {
   "cell_type": "code",
   "execution_count": 2,
   "metadata": {
    "ExecuteTime": {
     "end_time": "2019-04-06T22:21:31.622066Z",
     "start_time": "2019-04-06T22:21:31.605223Z"
    }
   },
   "outputs": [],
   "source": [
    "import speech_recognition as sr"
   ]
  },
  {
   "cell_type": "markdown",
   "metadata": {},
   "source": [
    "# The Recognizer Class\n",
    "All of the magic in SpeechRecognition happens with the Recognizer class.\n",
    "\n",
    "To create a Recognizer instance, just type:"
   ]
  },
  {
   "cell_type": "code",
   "execution_count": 3,
   "metadata": {
    "ExecuteTime": {
     "end_time": "2019-04-06T22:21:31.629274Z",
     "start_time": "2019-04-06T22:21:31.625810Z"
    }
   },
   "outputs": [],
   "source": [
    "r = sr.Recognizer()"
   ]
  },
  {
   "cell_type": "code",
   "execution_count": 4,
   "metadata": {
    "ExecuteTime": {
     "end_time": "2019-04-06T22:21:31.718333Z",
     "start_time": "2019-04-06T22:21:31.632708Z"
    }
   },
   "outputs": [
    {
     "ename": "TypeError",
     "evalue": "recognize_google() missing 1 required positional argument: 'audio_data'",
     "output_type": "error",
     "traceback": [
      "\u001b[0;31m---------------------------------------------------------------------------\u001b[0m",
      "\u001b[0;31mTypeError\u001b[0m                                 Traceback (most recent call last)",
      "\u001b[0;32m<ipython-input-4-d49a55a68619>\u001b[0m in \u001b[0;36m<module>\u001b[0;34m\u001b[0m\n\u001b[0;32m----> 1\u001b[0;31m \u001b[0mr\u001b[0m\u001b[0;34m.\u001b[0m\u001b[0mrecognize_google\u001b[0m\u001b[0;34m(\u001b[0m\u001b[0;34m)\u001b[0m\u001b[0;34m\u001b[0m\u001b[0;34m\u001b[0m\u001b[0m\n\u001b[0m",
      "\u001b[0;31mTypeError\u001b[0m: recognize_google() missing 1 required positional argument: 'audio_data'"
     ]
    }
   ],
   "source": [
    "r.recognize_google()"
   ]
  },
  {
   "cell_type": "markdown",
   "metadata": {},
   "source": [
    "There are 7 recognize_() methods of the Recognizer class. In each case, ***audio_data must be an instance of SpeechRecognition’s AudioData class.***\n",
    "\n",
    "**There are two ways to create an AudioData instance: from an audio file or audio recorded by a microphone** (perfect for us!)."
   ]
  },
  {
   "cell_type": "markdown",
   "metadata": {},
   "source": [
    "# Audio File Example\n",
    "Downloading `harvard.wav` from this link https://github.com/realpython/python-speech-recognition/tree/master/audio_files, or use link I provided in Slack"
   ]
  },
  {
   "cell_type": "code",
   "execution_count": 5,
   "metadata": {
    "ExecuteTime": {
     "end_time": "2019-04-06T22:21:42.127086Z",
     "start_time": "2019-04-06T22:21:42.124256Z"
    }
   },
   "outputs": [],
   "source": [
    "harvard = sr.AudioFile('harvard.wav')"
   ]
  },
  {
   "cell_type": "code",
   "execution_count": 6,
   "metadata": {
    "ExecuteTime": {
     "end_time": "2019-04-06T22:21:42.301725Z",
     "start_time": "2019-04-06T22:21:42.287878Z"
    }
   },
   "outputs": [],
   "source": [
    "with harvard as source:\n",
    "    audio = r.record(source)"
   ]
  },
  {
   "cell_type": "markdown",
   "metadata": {
    "ExecuteTime": {
     "end_time": "2019-04-06T05:14:01.585258Z",
     "start_time": "2019-04-06T05:14:01.580886Z"
    }
   },
   "source": [
    "You can now invoke recognize_google() to attempt to recognize any speech in the audio. Depending on your internet connection speed, you may have to wait several seconds before seeing the result."
   ]
  },
  {
   "cell_type": "markdown",
   "metadata": {},
   "source": [
    "Note: Of the 7 r.recognize files to choose from, SpeechRecognition ships with a default API key for the Google Web Speech API, this is easiest for us to get started with. The other six APIs all require authentication with either an API key or a username/password combination. There may be a limit with the number of google audio files (indicates 50 per day per user so if this becomes a problem we'll switch and look into API's)."
   ]
  },
  {
   "cell_type": "code",
   "execution_count": 7,
   "metadata": {
    "ExecuteTime": {
     "end_time": "2019-04-06T22:21:48.084337Z",
     "start_time": "2019-04-06T22:21:42.657760Z"
    }
   },
   "outputs": [
    {
     "data": {
      "text/plain": [
       "'the stale smell of old beer lingers it takes heat to bring out the odor a cold dip restores health and zest a salt pickle taste fine with ham tacos al Pastore are my favorite a zestful food is be hot cross bun'"
      ]
     },
     "execution_count": 7,
     "metadata": {},
     "output_type": "execute_result"
    }
   ],
   "source": [
    "r.recognize_google(audio)"
   ]
  },
  {
   "cell_type": "markdown",
   "metadata": {},
   "source": [
    "This is a good transcription - one thing to note is that pauses are not taken into account for new sentences, so no periods. This was also a very clean audio file if you listen to it - only word it got incorrectly was the final 'be' which was supposed to be 'the'"
   ]
  },
  {
   "cell_type": "markdown",
   "metadata": {},
   "source": [
    "Note: There are also ways to deal with ambient noise in the tutorial I watched, however, I think we can have our demos assuming perfectly clear audio. There is also a way to return a dictionary of other possible sentences if we really need those. For now this is good"
   ]
  },
  {
   "cell_type": "markdown",
   "metadata": {},
   "source": [
    "# Audio with microphone (probably not necessary immediately, but why not)"
   ]
  },
  {
   "cell_type": "code",
   "execution_count": 8,
   "metadata": {
    "ExecuteTime": {
     "end_time": "2019-04-06T22:22:04.582053Z",
     "start_time": "2019-04-06T22:21:48.087168Z"
    }
   },
   "outputs": [
    {
     "name": "stdout",
     "output_type": "stream",
     "text": [
      "Updating Homebrew...\n",
      "\u001b[34m==>\u001b[0m \u001b[1mAuto-updated Homebrew!\u001b[0m\n",
      "Updated 3 taps (homebrew/cask-versions, homebrew/core and homebrew/cask).\n",
      "\u001b[34m==>\u001b[0m \u001b[1mUpdated Formulae\u001b[0m\n",
      "\u001b[1mpandoc \u001b[32m✔\u001b[0m\u001b[0m            binaryen            libnotify           wireguard-tools\n",
      "\u001b[1mwget \u001b[32m✔\u001b[0m\u001b[0m              istioctl            links               youtube-dl\n",
      "algernon            krakend             lmod\n",
      "apr                 libcroco            ruby@2.4\n",
      "\u001b[34m==>\u001b[0m \u001b[1mDeleted Formulae\u001b[0m\n",
      "ruby@2.3\n",
      "\n",
      "\u001b[33mWarning:\u001b[0m portaudio 19.6.0 is already installed and up-to-date\n",
      "To reinstall 19.6.0, run `brew reinstall portaudio`\n",
      "Requirement already satisfied: pyaudio in /Users/darrenthomas/miniconda3/lib/python3.7/site-packages (0.2.11)\n"
     ]
    }
   ],
   "source": [
    "!brew install portaudio\n",
    "!pip install pyaudio"
   ]
  },
  {
   "cell_type": "code",
   "execution_count": 9,
   "metadata": {
    "ExecuteTime": {
     "end_time": "2019-04-06T22:22:04.591344Z",
     "start_time": "2019-04-06T22:22:04.585219Z"
    }
   },
   "outputs": [],
   "source": [
    "import speech_recognition as sr"
   ]
  },
  {
   "cell_type": "code",
   "execution_count": 10,
   "metadata": {
    "ExecuteTime": {
     "end_time": "2019-04-06T22:22:04.600914Z",
     "start_time": "2019-04-06T22:22:04.596998Z"
    }
   },
   "outputs": [],
   "source": [
    "# create instance of recognizer class\n",
    "r = sr.Recognizer()"
   ]
  },
  {
   "cell_type": "markdown",
   "metadata": {},
   "source": [
    "Now, instead of using an audio file as the source, you will use the default system microphone. You can access this by creating an instance of the Microphone class"
   ]
  },
  {
   "cell_type": "code",
   "execution_count": 11,
   "metadata": {
    "ExecuteTime": {
     "end_time": "2019-04-06T22:22:04.647219Z",
     "start_time": "2019-04-06T22:22:04.603343Z"
    }
   },
   "outputs": [],
   "source": [
    "# create instance of microphone class\n",
    "mic = sr.Microphone()"
   ]
  },
  {
   "cell_type": "markdown",
   "metadata": {},
   "source": [
    "You can get a list of microphone names available by calling the list_microphone_names() static method of the Microphone class."
   ]
  },
  {
   "cell_type": "code",
   "execution_count": 12,
   "metadata": {
    "ExecuteTime": {
     "end_time": "2019-04-06T22:22:12.203625Z",
     "start_time": "2019-04-06T22:22:12.199185Z"
    }
   },
   "outputs": [
    {
     "data": {
      "text/plain": [
       "['Built-in Microphone', 'Built-in Output', 'Multi-Output Device']"
      ]
     },
     "execution_count": 12,
     "metadata": {},
     "output_type": "execute_result"
    }
   ],
   "source": [
    "sr.Microphone.list_microphone_names()"
   ]
  },
  {
   "cell_type": "code",
   "execution_count": 13,
   "metadata": {
    "ExecuteTime": {
     "end_time": "2019-04-06T22:22:13.641785Z",
     "start_time": "2019-04-06T22:22:13.639437Z"
    }
   },
   "outputs": [],
   "source": [
    "# This is just an example of how to switch to different microphones, no need to run\n",
    "# mic = sr.Microphone(device_index=3)"
   ]
  },
  {
   "cell_type": "markdown",
   "metadata": {},
   "source": [
    "### Start speaking as soon as you run the code below, it will stop on its own"
   ]
  },
  {
   "cell_type": "code",
   "execution_count": 14,
   "metadata": {
    "ExecuteTime": {
     "end_time": "2019-04-06T22:22:31.224385Z",
     "start_time": "2019-04-06T22:22:23.285666Z"
    }
   },
   "outputs": [],
   "source": [
    "with mic as source:\n",
    "    audio = r.listen(source)"
   ]
  },
  {
   "cell_type": "markdown",
   "metadata": {},
   "source": [
    "### transcripton of text below"
   ]
  },
  {
   "cell_type": "code",
   "execution_count": 15,
   "metadata": {
    "ExecuteTime": {
     "end_time": "2019-04-06T22:22:34.711607Z",
     "start_time": "2019-04-06T22:22:33.027407Z"
    }
   },
   "outputs": [
    {
     "data": {
      "text/plain": [
       "'testing microphone one two three testing this microphone'"
      ]
     },
     "execution_count": 15,
     "metadata": {},
     "output_type": "execute_result"
    }
   ],
   "source": [
    "r.recognize_google(audio)"
   ]
  }
 ],
 "metadata": {
  "kernelspec": {
   "display_name": "Python 3",
   "language": "python",
   "name": "python3"
  },
  "language_info": {
   "codemirror_mode": {
    "name": "ipython",
    "version": 3
   },
   "file_extension": ".py",
   "mimetype": "text/x-python",
   "name": "python",
   "nbconvert_exporter": "python",
   "pygments_lexer": "ipython3",
   "version": "3.7.1"
  }
 },
 "nbformat": 4,
 "nbformat_minor": 2
}
